{
 "cells": [
  {
   "cell_type": "code",
   "execution_count": null,
   "metadata": {},
   "outputs": [],
   "source": [
    "from comfy_script.runtime import *\n",
    "load('http://10.10.205.180:8188/')\n",
    "\n",
    "from comfy_script.runtime.nodes import *\n",
    "from comfy_script.runtime import util\n",
    "\n",
    "with Workflow():\n",
    "    model, clip, vae = CheckpointLoaderSimple('juggernautXL_v8Rundiffusion.safetensors')\n",
    "    conditioning = CLIPTextEncode('cute blind cat holding purple galaxy bottle,', clip)\n",
    "    conditioning2 = CLIPTextEncode('text, watermark', clip)\n",
    "    latent = EmptyLatentImage(512, 512, 2)\n",
    "    latent = KSampler(model, 123294872282605, 20, 8, 'euler', 'normal', conditioning, conditioning2, latent, 1)\n",
    "    image = VAEDecode(latent, vae)\n",
    "    PreviewImage(image)"
   ]
  }
 ],
 "metadata": {
  "kernelspec": {
   "display_name": "comfy",
   "language": "python",
   "name": "python3"
  },
  "language_info": {
   "codemirror_mode": {
    "name": "ipython",
    "version": 3
   },
   "file_extension": ".py",
   "mimetype": "text/x-python",
   "name": "python",
   "nbconvert_exporter": "python",
   "pygments_lexer": "ipython3",
   "version": "3.13.1"
  }
 },
 "nbformat": 4,
 "nbformat_minor": 2
}
